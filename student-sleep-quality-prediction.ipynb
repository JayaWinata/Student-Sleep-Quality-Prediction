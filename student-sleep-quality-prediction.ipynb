{
 "cells": [
  {
   "cell_type": "code",
   "execution_count": 1,
   "id": "ccfdf412",
   "metadata": {},
   "outputs": [
    {
     "name": "stdout",
     "output_type": "stream",
     "text": [
      "sagemaker.config INFO - Not applying SDK defaults from location: C:\\ProgramData\\sagemaker\\sagemaker\\config.yaml\n",
      "sagemaker.config INFO - Not applying SDK defaults from location: C:\\Users\\jayaw\\AppData\\Local\\sagemaker\\sagemaker\\config.yaml\n"
     ]
    }
   ],
   "source": [
    "import sagemaker\n",
    "from sklearn.model_selection import train_test_split\n",
    "from sklearn.preprocessing import LabelEncoder\n",
    "from sklearn.ensemble import RandomForestClassifier\n",
    "import boto3\n",
    "import pandas as pd\n",
    "import matplotlib.pyplot as plt\n",
    "import seaborn as sns\n",
    "from dotenv import load_dotenv\n",
    "import os"
   ]
  },
  {
   "cell_type": "code",
   "execution_count": 2,
   "id": "5c9bb627",
   "metadata": {},
   "outputs": [
    {
     "data": {
      "text/plain": [
       "True"
      ]
     },
     "execution_count": 2,
     "metadata": {},
     "output_type": "execute_result"
    }
   ],
   "source": [
    "load_dotenv()"
   ]
  },
  {
   "cell_type": "code",
   "execution_count": 3,
   "id": "cacef22d",
   "metadata": {},
   "outputs": [
    {
     "name": "stdout",
     "output_type": "stream",
     "text": [
      "Using bucket student-sleep-quality-prediction-bucket-sagemaker\n"
     ]
    }
   ],
   "source": [
    "sm_boto3 = boto3.client(\"sagemaker\")   # Create a low-level SageMaker client using boto3\n",
    "sess = sagemaker.Session()             # Create a SageMaker session using the high-level SageMaker SDK\n",
    "region = sess.boto_session.region_name # Get the AWS region associated with the current session\n",
    "bucket = \"student-sleep-quality-prediction-bucket-sagemaker\"  # Define the name of your S3 bucket\n",
    "print(\"Using bucket\", bucket)          # Output the name of the bucket being used"
   ]
  },
  {
   "cell_type": "markdown",
   "id": "7e947046",
   "metadata": {},
   "source": [
    "## Load Dataset"
   ]
  },
  {
   "cell_type": "code",
   "execution_count": 4,
   "id": "6be9d6da",
   "metadata": {},
   "outputs": [
    {
     "data": {
      "application/vnd.microsoft.datawrangler.viewer.v0+json": {
       "columns": [
        {
         "name": "index",
         "rawType": "int64",
         "type": "integer"
        },
        {
         "name": "Student_ID",
         "rawType": "int64",
         "type": "integer"
        },
        {
         "name": "Age",
         "rawType": "int64",
         "type": "integer"
        },
        {
         "name": "Gender",
         "rawType": "object",
         "type": "string"
        },
        {
         "name": "University_Year",
         "rawType": "object",
         "type": "string"
        },
        {
         "name": "Sleep_Duration",
         "rawType": "float64",
         "type": "float"
        },
        {
         "name": "Study_Hours",
         "rawType": "float64",
         "type": "float"
        },
        {
         "name": "Screen_Time",
         "rawType": "float64",
         "type": "float"
        },
        {
         "name": "Caffeine_Intake",
         "rawType": "int64",
         "type": "integer"
        },
        {
         "name": "Physical_Activity",
         "rawType": "int64",
         "type": "integer"
        },
        {
         "name": "Sleep_Quality",
         "rawType": "int64",
         "type": "integer"
        },
        {
         "name": "Weekday_Sleep_Start",
         "rawType": "float64",
         "type": "float"
        },
        {
         "name": "Weekend_Sleep_Start",
         "rawType": "float64",
         "type": "float"
        },
        {
         "name": "Weekday_Sleep_End",
         "rawType": "float64",
         "type": "float"
        },
        {
         "name": "Weekend_Sleep_End",
         "rawType": "float64",
         "type": "float"
        }
       ],
       "ref": "4645de5b-8551-4590-9b8b-8c6baaa48fcc",
       "rows": [
        [
         "0",
         "1",
         "24",
         "Other",
         "2nd Year",
         "7.7",
         "7.9",
         "3.4",
         "2",
         "37",
         "10",
         "14.16",
         "4.05",
         "7.41",
         "7.06"
        ],
        [
         "1",
         "2",
         "21",
         "Male",
         "1st Year",
         "6.3",
         "6.0",
         "1.9",
         "5",
         "74",
         "2",
         "8.73",
         "7.1",
         "8.21",
         "10.21"
        ],
        [
         "2",
         "3",
         "22",
         "Male",
         "4th Year",
         "5.1",
         "6.7",
         "3.9",
         "5",
         "53",
         "5",
         "20.0",
         "20.47",
         "6.88",
         "10.92"
        ],
        [
         "3",
         "4",
         "24",
         "Other",
         "4th Year",
         "6.3",
         "8.6",
         "2.8",
         "4",
         "55",
         "9",
         "19.82",
         "4.08",
         "6.69",
         "9.42"
        ],
        [
         "4",
         "5",
         "20",
         "Male",
         "4th Year",
         "4.7",
         "2.7",
         "2.7",
         "0",
         "85",
         "3",
         "20.98",
         "6.12",
         "8.98",
         "9.01"
        ]
       ],
       "shape": {
        "columns": 14,
        "rows": 5
       }
      },
      "text/html": [
       "<div>\n",
       "<style scoped>\n",
       "    .dataframe tbody tr th:only-of-type {\n",
       "        vertical-align: middle;\n",
       "    }\n",
       "\n",
       "    .dataframe tbody tr th {\n",
       "        vertical-align: top;\n",
       "    }\n",
       "\n",
       "    .dataframe thead th {\n",
       "        text-align: right;\n",
       "    }\n",
       "</style>\n",
       "<table border=\"1\" class=\"dataframe\">\n",
       "  <thead>\n",
       "    <tr style=\"text-align: right;\">\n",
       "      <th></th>\n",
       "      <th>Student_ID</th>\n",
       "      <th>Age</th>\n",
       "      <th>Gender</th>\n",
       "      <th>University_Year</th>\n",
       "      <th>Sleep_Duration</th>\n",
       "      <th>Study_Hours</th>\n",
       "      <th>Screen_Time</th>\n",
       "      <th>Caffeine_Intake</th>\n",
       "      <th>Physical_Activity</th>\n",
       "      <th>Sleep_Quality</th>\n",
       "      <th>Weekday_Sleep_Start</th>\n",
       "      <th>Weekend_Sleep_Start</th>\n",
       "      <th>Weekday_Sleep_End</th>\n",
       "      <th>Weekend_Sleep_End</th>\n",
       "    </tr>\n",
       "  </thead>\n",
       "  <tbody>\n",
       "    <tr>\n",
       "      <th>0</th>\n",
       "      <td>1</td>\n",
       "      <td>24</td>\n",
       "      <td>Other</td>\n",
       "      <td>2nd Year</td>\n",
       "      <td>7.7</td>\n",
       "      <td>7.9</td>\n",
       "      <td>3.4</td>\n",
       "      <td>2</td>\n",
       "      <td>37</td>\n",
       "      <td>10</td>\n",
       "      <td>14.16</td>\n",
       "      <td>4.05</td>\n",
       "      <td>7.41</td>\n",
       "      <td>7.06</td>\n",
       "    </tr>\n",
       "    <tr>\n",
       "      <th>1</th>\n",
       "      <td>2</td>\n",
       "      <td>21</td>\n",
       "      <td>Male</td>\n",
       "      <td>1st Year</td>\n",
       "      <td>6.3</td>\n",
       "      <td>6.0</td>\n",
       "      <td>1.9</td>\n",
       "      <td>5</td>\n",
       "      <td>74</td>\n",
       "      <td>2</td>\n",
       "      <td>8.73</td>\n",
       "      <td>7.10</td>\n",
       "      <td>8.21</td>\n",
       "      <td>10.21</td>\n",
       "    </tr>\n",
       "    <tr>\n",
       "      <th>2</th>\n",
       "      <td>3</td>\n",
       "      <td>22</td>\n",
       "      <td>Male</td>\n",
       "      <td>4th Year</td>\n",
       "      <td>5.1</td>\n",
       "      <td>6.7</td>\n",
       "      <td>3.9</td>\n",
       "      <td>5</td>\n",
       "      <td>53</td>\n",
       "      <td>5</td>\n",
       "      <td>20.00</td>\n",
       "      <td>20.47</td>\n",
       "      <td>6.88</td>\n",
       "      <td>10.92</td>\n",
       "    </tr>\n",
       "    <tr>\n",
       "      <th>3</th>\n",
       "      <td>4</td>\n",
       "      <td>24</td>\n",
       "      <td>Other</td>\n",
       "      <td>4th Year</td>\n",
       "      <td>6.3</td>\n",
       "      <td>8.6</td>\n",
       "      <td>2.8</td>\n",
       "      <td>4</td>\n",
       "      <td>55</td>\n",
       "      <td>9</td>\n",
       "      <td>19.82</td>\n",
       "      <td>4.08</td>\n",
       "      <td>6.69</td>\n",
       "      <td>9.42</td>\n",
       "    </tr>\n",
       "    <tr>\n",
       "      <th>4</th>\n",
       "      <td>5</td>\n",
       "      <td>20</td>\n",
       "      <td>Male</td>\n",
       "      <td>4th Year</td>\n",
       "      <td>4.7</td>\n",
       "      <td>2.7</td>\n",
       "      <td>2.7</td>\n",
       "      <td>0</td>\n",
       "      <td>85</td>\n",
       "      <td>3</td>\n",
       "      <td>20.98</td>\n",
       "      <td>6.12</td>\n",
       "      <td>8.98</td>\n",
       "      <td>9.01</td>\n",
       "    </tr>\n",
       "  </tbody>\n",
       "</table>\n",
       "</div>"
      ],
      "text/plain": [
       "   Student_ID  Age Gender University_Year  Sleep_Duration  Study_Hours  \\\n",
       "0           1   24  Other        2nd Year             7.7          7.9   \n",
       "1           2   21   Male        1st Year             6.3          6.0   \n",
       "2           3   22   Male        4th Year             5.1          6.7   \n",
       "3           4   24  Other        4th Year             6.3          8.6   \n",
       "4           5   20   Male        4th Year             4.7          2.7   \n",
       "\n",
       "   Screen_Time  Caffeine_Intake  Physical_Activity  Sleep_Quality  \\\n",
       "0          3.4                2                 37             10   \n",
       "1          1.9                5                 74              2   \n",
       "2          3.9                5                 53              5   \n",
       "3          2.8                4                 55              9   \n",
       "4          2.7                0                 85              3   \n",
       "\n",
       "   Weekday_Sleep_Start  Weekend_Sleep_Start  Weekday_Sleep_End  \\\n",
       "0                14.16                 4.05               7.41   \n",
       "1                 8.73                 7.10               8.21   \n",
       "2                20.00                20.47               6.88   \n",
       "3                19.82                 4.08               6.69   \n",
       "4                20.98                 6.12               8.98   \n",
       "\n",
       "   Weekend_Sleep_End  \n",
       "0               7.06  \n",
       "1              10.21  \n",
       "2              10.92  \n",
       "3               9.42  \n",
       "4               9.01  "
      ]
     },
     "execution_count": 4,
     "metadata": {},
     "output_type": "execute_result"
    }
   ],
   "source": [
    "df = pd.read_csv('student_sleep_patterns.csv')\n",
    "df.head()"
   ]
  },
  {
   "cell_type": "markdown",
   "id": "1bc44aa5",
   "metadata": {},
   "source": [
    "## Exploratory Data Analysis (EDA)"
   ]
  },
  {
   "cell_type": "code",
   "execution_count": 5,
   "id": "6464967d",
   "metadata": {},
   "outputs": [
    {
     "data": {
      "text/plain": [
       "(500, 14)"
      ]
     },
     "execution_count": 5,
     "metadata": {},
     "output_type": "execute_result"
    }
   ],
   "source": [
    "df.shape"
   ]
  },
  {
   "cell_type": "code",
   "execution_count": 6,
   "id": "9ef12cd7",
   "metadata": {},
   "outputs": [
    {
     "data": {
      "application/vnd.microsoft.datawrangler.viewer.v0+json": {
       "columns": [
        {
         "name": "index",
         "rawType": "object",
         "type": "string"
        },
        {
         "name": "0",
         "rawType": "int64",
         "type": "integer"
        }
       ],
       "ref": "9ff4b44e-67a6-4915-b7c2-dd9778a51067",
       "rows": [
        [
         "Student_ID",
         "0"
        ],
        [
         "Age",
         "0"
        ],
        [
         "Gender",
         "0"
        ],
        [
         "University_Year",
         "0"
        ],
        [
         "Sleep_Duration",
         "0"
        ],
        [
         "Study_Hours",
         "0"
        ],
        [
         "Screen_Time",
         "0"
        ],
        [
         "Caffeine_Intake",
         "0"
        ],
        [
         "Physical_Activity",
         "0"
        ],
        [
         "Sleep_Quality",
         "0"
        ],
        [
         "Weekday_Sleep_Start",
         "0"
        ],
        [
         "Weekend_Sleep_Start",
         "0"
        ],
        [
         "Weekday_Sleep_End",
         "0"
        ],
        [
         "Weekend_Sleep_End",
         "0"
        ]
       ],
       "shape": {
        "columns": 1,
        "rows": 14
       }
      },
      "text/plain": [
       "Student_ID             0\n",
       "Age                    0\n",
       "Gender                 0\n",
       "University_Year        0\n",
       "Sleep_Duration         0\n",
       "Study_Hours            0\n",
       "Screen_Time            0\n",
       "Caffeine_Intake        0\n",
       "Physical_Activity      0\n",
       "Sleep_Quality          0\n",
       "Weekday_Sleep_Start    0\n",
       "Weekend_Sleep_Start    0\n",
       "Weekday_Sleep_End      0\n",
       "Weekend_Sleep_End      0\n",
       "dtype: int64"
      ]
     },
     "execution_count": 6,
     "metadata": {},
     "output_type": "execute_result"
    }
   ],
   "source": [
    "df.isnull().sum()"
   ]
  },
  {
   "cell_type": "code",
   "execution_count": 7,
   "id": "25a85ca6",
   "metadata": {},
   "outputs": [
    {
     "data": {
      "application/vnd.microsoft.datawrangler.viewer.v0+json": {
       "columns": [
        {
         "name": "Sleep_Quality",
         "rawType": "int64",
         "type": "integer"
        },
        {
         "name": "count",
         "rawType": "int64",
         "type": "integer"
        }
       ],
       "ref": "c0c9b7e4-29ce-42dc-9d5c-516683c46540",
       "rows": [
        [
         "1",
         "66"
        ],
        [
         "6",
         "57"
        ],
        [
         "9",
         "55"
        ],
        [
         "3",
         "54"
        ],
        [
         "10",
         "50"
        ],
        [
         "2",
         "46"
        ],
        [
         "4",
         "46"
        ],
        [
         "7",
         "45"
        ],
        [
         "5",
         "41"
        ],
        [
         "8",
         "40"
        ]
       ],
       "shape": {
        "columns": 1,
        "rows": 10
       }
      },
      "text/plain": [
       "Sleep_Quality\n",
       "1     66\n",
       "6     57\n",
       "9     55\n",
       "3     54\n",
       "10    50\n",
       "2     46\n",
       "4     46\n",
       "7     45\n",
       "5     41\n",
       "8     40\n",
       "Name: count, dtype: int64"
      ]
     },
     "execution_count": 7,
     "metadata": {},
     "output_type": "execute_result"
    }
   ],
   "source": [
    "df['Sleep_Quality'].value_counts()"
   ]
  },
  {
   "cell_type": "code",
   "execution_count": 8,
   "id": "ad57bc54",
   "metadata": {},
   "outputs": [
    {
     "data": {
      "text/plain": [
       "Text(0, 0.5, 'Count')"
      ]
     },
     "execution_count": 8,
     "metadata": {},
     "output_type": "execute_result"
    },
    {
     "data": {
      "image/png": "[encoded data removed]",
      "text/plain": [
       "<Figure size 640x480 with 1 Axes>"
      ]
     },
     "metadata": {},
     "output_type": "display_data"
    }
   ],
   "source": [
    "sns.countplot(x='Sleep_Quality', data=df)\n",
    "plt.title(\"Target Variable Distribution\")\n",
    "plt.xlabel(\"Class\")\n",
    "plt.ylabel(\"Count\")"
   ]
  },
  {
   "cell_type": "code",
   "execution_count": 9,
   "id": "2345f83a",
   "metadata": {},
   "outputs": [
    {
     "data": {
      "text/plain": [
       "Index(['Student_ID', 'Age', 'Gender', 'University_Year', 'Sleep_Duration',\n",
       "       'Study_Hours', 'Screen_Time', 'Caffeine_Intake', 'Physical_Activity',\n",
       "       'Sleep_Quality', 'Weekday_Sleep_Start', 'Weekend_Sleep_Start',\n",
       "       'Weekday_Sleep_End', 'Weekend_Sleep_End'],\n",
       "      dtype='object')"
      ]
     },
     "execution_count": 9,
     "metadata": {},
     "output_type": "execute_result"
    }
   ],
   "source": [
    "df.columns"
   ]
  },
  {
   "cell_type": "code",
   "execution_count": 10,
   "id": "d622ea83",
   "metadata": {},
   "outputs": [
    {
     "name": "stdout",
     "output_type": "stream",
     "text": [
      "<class 'pandas.core.frame.DataFrame'>\n",
      "RangeIndex: 500 entries, 0 to 499\n",
      "Data columns (total 14 columns):\n",
      " #   Column               Non-Null Count  Dtype  \n",
      "---  ------               --------------  -----  \n",
      " 0   Student_ID           500 non-null    int64  \n",
      " 1   Age                  500 non-null    int64  \n",
      " 2   Gender               500 non-null    object \n",
      " 3   University_Year      500 non-null    object \n",
      " 4   Sleep_Duration       500 non-null    float64\n",
      " 5   Study_Hours          500 non-null    float64\n",
      " 6   Screen_Time          500 non-null    float64\n",
      " 7   Caffeine_Intake      500 non-null    int64  \n",
      " 8   Physical_Activity    500 non-null    int64  \n",
      " 9   Sleep_Quality        500 non-null    int64  \n",
      " 10  Weekday_Sleep_Start  500 non-null    float64\n",
      " 11  Weekend_Sleep_Start  500 non-null    float64\n",
      " 12  Weekday_Sleep_End    500 non-null    float64\n",
      " 13  Weekend_Sleep_End    500 non-null    float64\n",
      "dtypes: float64(7), int64(5), object(2)\n",
      "memory usage: 54.8+ KB\n"
     ]
    }
   ],
   "source": [
    "df.info()"
   ]
  },
  {
   "cell_type": "markdown",
   "id": "4f991c99",
   "metadata": {},
   "source": [
    "## Data Preprocessing"
   ]
  },
  {
   "cell_type": "code",
   "execution_count": 11,
   "id": "336c2d7d",
   "metadata": {},
   "outputs": [],
   "source": [
    "df.drop('Student_ID', inplace=True, axis=1)"
   ]
  },
  {
   "cell_type": "code",
   "execution_count": 12,
   "id": "4e28bce5",
   "metadata": {},
   "outputs": [],
   "source": [
    "TARGET = \"Sleep_Quality\""
   ]
  },
  {
   "cell_type": "code",
   "execution_count": 13,
   "id": "13408572",
   "metadata": {},
   "outputs": [],
   "source": [
    "categorical_cols = df.select_dtypes(include=['object', 'category']).columns\n",
    "\n",
    "# Apply LabelEncoder to each categorical column\n",
    "le = LabelEncoder()\n",
    "for col in categorical_cols:\n",
    "    df[col] = le.fit_transform(df[col])"
   ]
  },
  {
   "cell_type": "code",
   "execution_count": 14,
   "id": "beb6de13",
   "metadata": {},
   "outputs": [],
   "source": [
    "X = df.drop(columns=[TARGET])  # Features (all except target)\n",
    "y = df[TARGET]                 # Target variable"
   ]
  },
  {
   "cell_type": "code",
   "execution_count": 15,
   "id": "ba984de8",
   "metadata": {},
   "outputs": [],
   "source": [
    "X_train, X_test, y_train, y_test = train_test_split(X, y, test_size=.15, random_state=42)"
   ]
  },
  {
   "cell_type": "code",
   "execution_count": 16,
   "id": "e12b8d0b",
   "metadata": {},
   "outputs": [
    {
     "name": "stdout",
     "output_type": "stream",
     "text": [
      "(425, 12) \n",
      "\n",
      "(425,) \n",
      "\n",
      "(75, 12) \n",
      "\n",
      "(75,) \n",
      "\n"
     ]
    },
    {
     "data": {
      "text/plain": [
       "[None, None, None, None]"
      ]
     },
     "execution_count": 16,
     "metadata": {},
     "output_type": "execute_result"
    }
   ],
   "source": [
    "[print(f\"{a.shape} \\n\") for a in (X_train, y_train, X_test, y_test)]"
   ]
  },
  {
   "cell_type": "code",
   "execution_count": 17,
   "id": "e2cca528",
   "metadata": {},
   "outputs": [],
   "source": [
    "train_df = pd.DataFrame(X_train)\n",
    "train_df[TARGET] = y_train\n",
    "\n",
    "test_df = pd.DataFrame(X_test)\n",
    "test_df[TARGET] = y_test"
   ]
  },
  {
   "cell_type": "code",
   "execution_count": 18,
   "id": "45289892",
   "metadata": {},
   "outputs": [],
   "source": [
    "train_df.to_csv(\"train-V1.csv\", index=False)\n",
    "test_df.to_csv(\"test-V1.csv\", index=False)"
   ]
  },
  {
   "cell_type": "code",
   "execution_count": 19,
   "id": "9b289f4f",
   "metadata": {},
   "outputs": [],
   "source": [
    "os.environ['AWS_ACCESS_KEY_ID'] = os.getenv('AWS_ACCESS_KEY_ID')\n",
    "os.environ['AWS_SECRET_ACCESS_KEY'] = os.getenv('AWS_SECRET_ACCESS_KEY')\n",
    "os.environ['AWS_DEFAULT_REGION'] = os.getenv('AWS_DEFAULT_REGION')"
   ]
  },
  {
   "cell_type": "code",
   "execution_count": 20,
   "id": "6bf98331",
   "metadata": {},
   "outputs": [
    {
     "name": "stdout",
     "output_type": "stream",
     "text": [
      "s3://student-sleep-quality-prediction-bucket-sagemaker/sagemaker/student-sleep-quality/sklearncontainer/train-V1.csv\n",
      "s3://student-sleep-quality-prediction-bucket-sagemaker/sagemaker/student-sleep-quality/sklearncontainer/test-V1.csv\n"
     ]
    }
   ],
   "source": [
    "## send data to S3. Sagemaker will take the data for trainign from s3\n",
    "sk_prefix=\"sagemaker/student-sleep-quality/sklearncontainer\"\n",
    "trainpath=sess.upload_data(path='train-V1.csv',bucket=bucket,key_prefix=sk_prefix)\n",
    "testpath=sess.upload_data(path='test-V1.csv',bucket=bucket,key_prefix=sk_prefix)\n",
    "\n",
    "print(trainpath)\n",
    "print(testpath)"
   ]
  },
  {
   "cell_type": "markdown",
   "id": "05cfec20",
   "metadata": {},
   "source": [
    "## Training in Sagemaker"
   ]
  },
  {
   "cell_type": "code",
   "execution_count": 21,
   "id": "239f0bce",
   "metadata": {},
   "outputs": [
    {
     "name": "stdout",
     "output_type": "stream",
     "text": [
      "Writing script.py\n"
     ]
    }
   ],
   "source": [
    "%%writefile script.py\n",
    "\n",
    "from sklearn.ensemble import RandomForestClassifier\n",
    "from sklearn.metrics import accuracy_score,classification_report,confusion_matrix,precision_score\n",
    "import sklearn\n",
    "import joblib\n",
    "import boto3\n",
    "import pathlib\n",
    "from io import StringIO\n",
    "import argparse\n",
    "import os\n",
    "import numpy as np\n",
    "import pandas as pd\n",
    "\n",
    "\n",
    "def model_fn(model_dir):\n",
    "    clf=joblib.load(os.path.join(model_dir,\"model.joblib\"))\n",
    "\n",
    "if __name__==\"__main__\":\n",
    "\n",
    "    print(\"[Info] Extracting arguments\")\n",
    "    parser=argparse.ArgumentParser()\n",
    "\n",
    "    ## Hyperparameter\n",
    "    parser.add_argument(\"--n_estimators\",type=int,default=100)\n",
    "    parser.add_argument(\"--random_state\",type=int,default=0)\n",
    "\n",
    "    ### Data,model,and output directories\n",
    "    parser.add_argument(\"--model-dir\", type=str, default=os.environ.get(\"SM_MODEL_DIR\"))\n",
    "    parser.add_argument(\"--train\", type=str, default=os.environ.get(\"SM_CHANNEL_TRAIN\"))\n",
    "    parser.add_argument(\"--test\", type=str, default=os.environ.get(\"SM_CHANNEL_TEST\"))\n",
    "    parser.add_argument(\"--train-file\", type=str, default=\"train-V1.csv\")\n",
    "    parser.add_argument(\"--test-file\", type=str, default=\"test-V1.csv\")\n",
    "\n",
    "    args, _ =parser.parse_known_args()\n",
    "\n",
    "    print(\"SKLearn Version: \", sklearn.__version__)\n",
    "    print(\"Joblib Version: \", joblib.__version__)\n",
    "\n",
    "    print(\"[INFO] Reading data\")\n",
    "    print()\n",
    "    train_df = pd.read_csv(os.path.join(args.train, args.train_file))\n",
    "    test_df = pd.read_csv(os.path.join(args.test, args.test_file))\n",
    "\n",
    "    features = list(train_df.columns)\n",
    "    label = features.pop(-1)\n",
    "\n",
    "    print(\"Building training and testing datasets\")\n",
    "    print()\n",
    "    X_train = train_df[features]\n",
    "    X_test = test_df[features]\n",
    "    y_train = train_df[label]\n",
    "    y_test = test_df[label]\n",
    "\n",
    "    print('Column order: ')\n",
    "    print(features)\n",
    "    print()\n",
    "    print(\"Label column is: \",label)\n",
    "    print()\n",
    "    print(\"Data Shape: \")\n",
    "    print()\n",
    "    print(\"---- SHAPE OF TRAINING DATA (85%) ----\")\n",
    "    print(X_train.shape)\n",
    "    print(y_train.shape)\n",
    "    print()\n",
    "    print(\"---- SHAPE OF TESTING DATA (15%) ----\")\n",
    "    print(X_test.shape)\n",
    "    print(y_test.shape)\n",
    "    print()\n",
    "\n",
    "\n",
    "    print(\"Training RandomForest Model ....\")\n",
    "    print()\n",
    "    model=RandomForestClassifier(n_estimators=args.n_estimators,random_state=args.random_state, verbose=2,n_jobs=1)\n",
    "    model.fit(X_train,y_train)\n",
    "\n",
    "    print()\n",
    "\n",
    "    model_path=os.path.join(args.model_dir,\"model.joblib\")\n",
    "    joblib.dump(model,model_path)\n",
    "\n",
    "    print(\"Model saved at\" + model_path)\n",
    "\n",
    "    y_pred_test = model.predict(X_test)\n",
    "    test_acc = accuracy_score(y_test,y_pred_test)\n",
    "    test_rep = classification_report(y_test,y_pred_test)\n",
    "\n",
    "    print()\n",
    "    print(\"---- METRICS RESULTS FOR TESTING DATA ----\")\n",
    "    print()\n",
    "    print(\"Total Rows are: \", X_test.shape[0])\n",
    "    print('[TESTING] Model Accuracy is: ', test_acc)\n",
    "    print('[TESTING] Testing Report: ')\n",
    "    print(test_rep)\n",
    "\n",
    "\n"
   ]
  },
  {
   "cell_type": "markdown",
   "id": "5c944e83",
   "metadata": {},
   "source": [
    "## AWS Sagemaker Entrypoint to Execute Training Script"
   ]
  },
  {
   "cell_type": "code",
   "execution_count": null,
   "id": "109aea53",
   "metadata": {},
   "outputs": [],
   "source": [
    "from sagemaker.sklearn.estimator import SKLearn\n",
    "\n",
    "FRAMEWORK_VERSION=\"0.23-1\"\n",
    "\n",
    "sklearn_estimator=SKLearn(\n",
    "    entry_point=\"script.py\",\n",
    "    role=\"arn:aws:iam::703671911782:role/sagemakeraccess\",\n",
    "    instance_count=1,\n",
    "    instance_type=\"ml.m5.large\",\n",
    "    framework_version=FRAMEWORK_VERSION,\n",
    "    base_job_name=\"RF-custom-sklearn\",\n",
    "    hyperparameters={\n",
    "        \"n_estimators\":100,\n",
    "        \"random_state\":0\n",
    "    },\n",
    "    use_spot_instance=True,\n",
    "    max_run=3600\n",
    "\n",
    ")\n",
    "\n",
    "'''\n",
    "The script begins by importing SKLearn from the sagemaker.sklearn.estimator module. This class is used to define and configure Scikit-learn training jobs to run on SageMaker's managed infrastructure. \n",
    "The FRAMEWORK_VERSION variable is set to \"0.23-1\", specifying the version of the Scikit-learn framework to be used in the training environment provided by SageMaker.\n",
    "The sklearn_estimator object is then created as an instance of SKLearn. The key argument here is entry_point=\"script.py\",\n",
    "which refers to a local Python script that contains the training logic — it must include a train() function that SageMaker will execute. The role parameter provides the Amazon Resource Name (ARN) of an IAM role that grants SageMaker permission to access AWS resources like S3 buckets and logging services. \n",
    "The training job is configured to use a single instance (instance_count=1) of type ml.m5.large, which offers a balance of CPU and memory resources suitable for many medium-sized ML tasks.\n",
    "The base_job_name is set to \"RF-custom-sklearn\", which SageMaker will use as a prefix for the training job name. The hyperparameters dictionary includes two entries: n_estimators=100 and random_state=0, likely for configuring a Random Forest model within the script.py training script. These hyperparameters will be passed into your script at runtime via command-line arguments. \n",
    "Finally, the script enables cost-efficient spot instances using use_spot_instance=True, and sets a maximum run time of 3600 seconds (1 hour) using max_run=3600, ensuring the training job does not run indefinitely.'''"
   ]
  },
  {
   "cell_type": "code",
   "execution_count": 23,
   "id": "b4ec76b0",
   "metadata": {},
   "outputs": [
    {
     "name": "stderr",
     "output_type": "stream",
     "text": [
      "INFO:sagemaker:Creating training-job with name: RF-custom-sklearn-2025-06-25-06-51-01-349\n"
     ]
    },
    {
     "name": "stdout",
     "output_type": "stream",
     "text": [
      "2025-06-25 06:51:11 Starting - Starting the training job...\n",
      "2025-06-25 06:51:45 Downloading - Downloading input data...\n",
      "2025-06-25 06:52:10 Downloading - Downloading the training image.....2025-06-25 06:53:00,493 sagemaker-containers INFO     Imported framework sagemaker_sklearn_container.training\n",
      "2025-06-25 06:53:00,497 sagemaker-training-toolkit INFO     No GPUs detected (normal if no gpus installed)\n",
      "2025-06-25 06:53:00,540 sagemaker_sklearn_container.training INFO     Invoking user training script.\n",
      "2025-06-25 06:53:00,692 sagemaker-training-toolkit INFO     No GPUs detected (normal if no gpus installed)\n",
      "2025-06-25 06:53:00,704 sagemaker-training-toolkit INFO     No GPUs detected (normal if no gpus installed)\n",
      "2025-06-25 06:53:00,719 sagemaker-training-toolkit INFO     No GPUs detected (normal if no gpus installed)\n",
      "2025-06-25 06:53:00,728 sagemaker-training-toolkit INFO     Invoking user script\n",
      "Training Env:\n",
      "{\n",
      "    \"additional_framework_parameters\": {},\n",
      "    \"channel_input_dirs\": {\n",
      "        \"test\": \"/opt/ml/input/data/test\",\n",
      "        \"train\": \"/opt/ml/input/data/train\"\n",
      "    },\n",
      "    \"current_host\": \"algo-1\",\n",
      "    \"framework_module\": \"sagemaker_sklearn_container.training:main\",\n",
      "    \"hosts\": [\n",
      "        \"algo-1\"\n",
      "    ],\n",
      "    \"hyperparameters\": {\n",
      "        \"n_estimators\": 100,\n",
      "        \"random_state\": 0\n",
      "    },\n",
      "    \"input_config_dir\": \"/opt/ml/input/config\",\n",
      "    \"input_data_config\": {\n",
      "        \"test\": {\n",
      "            \"TrainingInputMode\": \"File\",\n",
      "            \"S3DistributionType\": \"FullyReplicated\",\n",
      "            \"RecordWrapperType\": \"None\"\n",
      "        },\n",
      "        \"train\": {\n",
      "            \"TrainingInputMode\": \"File\",\n",
      "            \"S3DistributionType\": \"FullyReplicated\",\n",
      "            \"RecordWrapperType\": \"None\"\n",
      "        }\n",
      "    },\n",
      "    \"input_dir\": \"/opt/ml/input\",\n",
      "    \"is_master\": true,\n",
      "    \"job_name\": \"RF-custom-sklearn-2025-06-25-06-51-01-349\",\n",
      "    \"log_level\": 20,\n",
      "    \"master_hostname\": \"algo-1\",\n",
      "    \"model_dir\": \"/opt/ml/model\",\n",
      "    \"module_dir\": \"s3://sagemaker-us-east-1-703671911782/RF-custom-sklearn-2025-06-25-06-51-01-349/source/sourcedir.tar.gz\",\n",
      "    \"module_name\": \"script\",\n",
      "    \"network_interface_name\": \"eth0\",\n",
      "    \"num_cpus\": 2,\n",
      "    \"num_gpus\": 0,\n",
      "    \"output_data_dir\": \"/opt/ml/output/data\",\n",
      "    \"output_dir\": \"/opt/ml/output\",\n",
      "    \"output_intermediate_dir\": \"/opt/ml/output/intermediate\",\n",
      "    \"resource_config\": {\n",
      "        \"current_host\": \"algo-1\",\n",
      "        \"current_instance_type\": \"ml.m5.large\",\n",
      "        \"current_group_name\": \"homogeneousCluster\",\n",
      "        \"hosts\": [\n",
      "            \"algo-1\"\n",
      "        ],\n",
      "        \"instance_groups\": [\n",
      "            {\n",
      "                \"instance_group_name\": \"homogeneousCluster\",\n",
      "                \"instance_type\": \"ml.m5.large\",\n",
      "                \"hosts\": [\n",
      "                    \"algo-1\"\n",
      "                ]\n",
      "            }\n",
      "        ],\n",
      "        \"network_interface_name\": \"eth0\",\n",
      "        \"topology\": null\n",
      "    },\n",
      "    \"user_entry_point\": \"script.py\"\n",
      "}\n",
      "Environment variables:\n",
      "SM_HOSTS=[\"algo-1\"]\n",
      "SM_NETWORK_INTERFACE_NAME=eth0\n",
      "SM_HPS={\"n_estimators\":100,\"random_state\":0}\n",
      "SM_USER_ENTRY_POINT=script.py\n",
      "SM_FRAMEWORK_PARAMS={}\n",
      "SM_RESOURCE_CONFIG={\"current_group_name\":\"homogeneousCluster\",\"current_host\":\"algo-1\",\"current_instance_type\":\"ml.m5.large\",\"hosts\":[\"algo-1\"],\"instance_groups\":[{\"hosts\":[\"algo-1\"],\"instance_group_name\":\"homogeneousCluster\",\"instance_type\":\"ml.m5.large\"}],\"network_interface_name\":\"eth0\",\"topology\":null}\n",
      "SM_INPUT_DATA_CONFIG={\"test\":{\"RecordWrapperType\":\"None\",\"S3DistributionType\":\"FullyReplicated\",\"TrainingInputMode\":\"File\"},\"train\":{\"RecordWrapperType\":\"None\",\"S3DistributionType\":\"FullyReplicated\",\"TrainingInputMode\":\"File\"}}\n",
      "SM_OUTPUT_DATA_DIR=/opt/ml/output/data\n",
      "SM_CHANNELS=[\"test\",\"train\"]\n",
      "SM_CURRENT_HOST=algo-1\n",
      "SM_MODULE_NAME=script\n",
      "SM_LOG_LEVEL=20\n",
      "SM_FRAMEWORK_MODULE=sagemaker_sklearn_container.training:main\n",
      "SM_INPUT_DIR=/opt/ml/input\n",
      "SM_INPUT_CONFIG_DIR=/opt/ml/input/config\n",
      "SM_OUTPUT_DIR=/opt/ml/output\n",
      "SM_NUM_CPUS=2\n",
      "SM_NUM_GPUS=0\n",
      "SM_MODEL_DIR=/opt/ml/model\n",
      "SM_MODULE_DIR=s3://sagemaker-us-east-1-703671911782/RF-custom-sklearn-2025-06-25-06-51-01-349/source/sourcedir.tar.gz\n",
      "SM_TRAINING_ENV={\"additional_framework_parameters\":{},\"channel_input_dirs\":{\"test\":\"/opt/ml/input/data/test\",\"train\":\"/opt/ml/input/data/train\"},\"current_host\":\"algo-1\",\"framework_module\":\"sagemaker_sklearn_container.training:main\",\"hosts\":[\"algo-1\"],\"hyperparameters\":{\"n_estimators\":100,\"random_state\":0},\"input_config_dir\":\"/opt/ml/input/config\",\"input_data_config\":{\"test\":{\"RecordWrapperType\":\"None\",\"S3DistributionType\":\"FullyReplicated\",\"TrainingInputMode\":\"File\"},\"train\":{\"RecordWrapperType\":\"None\",\"S3DistributionType\":\"FullyReplicated\",\"TrainingInputMode\":\"File\"}},\"input_dir\":\"/opt/ml/input\",\"is_master\":true,\"job_name\":\"RF-custom-sklearn-2025-06-25-06-51-01-349\",\"log_level\":20,\"master_hostname\":\"algo-1\",\"model_dir\":\"/opt/ml/model\",\"module_dir\":\"s3://sagemaker-us-east-1-703671911782/RF-custom-sklearn-2025-06-25-06-51-01-349/source/sourcedir.tar.gz\",\"module_name\":\"script\",\"network_interface_name\":\"eth0\",\"num_cpus\":2,\"num_gpus\":0,\"output_data_dir\":\"/opt/ml/output/data\",\"output_dir\":\"/opt/ml/output\",\"output_intermediate_dir\":\"/opt/ml/output/intermediate\",\"resource_config\":{\"current_group_name\":\"homogeneousCluster\",\"current_host\":\"algo-1\",\"current_instance_type\":\"ml.m5.large\",\"hosts\":[\"algo-1\"],\"instance_groups\":[{\"hosts\":[\"algo-1\"],\"instance_group_name\":\"homogeneousCluster\",\"instance_type\":\"ml.m5.large\"}],\"network_interface_name\":\"eth0\",\"topology\":null},\"user_entry_point\":\"script.py\"}\n",
      "SM_USER_ARGS=[\"--n_estimators\",\"100\",\"--random_state\",\"0\"]\n",
      "SM_OUTPUT_INTERMEDIATE_DIR=/opt/ml/output/intermediate\n",
      "SM_CHANNEL_TEST=/opt/ml/input/data/test\n",
      "SM_CHANNEL_TRAIN=/opt/ml/input/data/train\n",
      "SM_HP_N_ESTIMATORS=100\n",
      "SM_HP_RANDOM_STATE=0\n",
      "PYTHONPATH=/opt/ml/code:/miniconda3/bin:/miniconda3/lib/python37.zip:/miniconda3/lib/python3.7:/miniconda3/lib/python3.7/lib-dynload:/miniconda3/lib/python3.7/site-packages\n",
      "Invoking script with the following command:\n",
      "/miniconda3/bin/python script.py --n_estimators 100 --random_state 0\n",
      "[Info] Extracting arguments\n",
      "SKLearn Version:  0.23.2\n",
      "Joblib Version:  1.2.0\n",
      "[INFO] Reading data\n",
      "Building training and testing datasets\n",
      "Column order: \n",
      "['Age', 'Gender', 'University_Year', 'Sleep_Duration', 'Study_Hours', 'Screen_Time', 'Caffeine_Intake', 'Physical_Activity', 'Weekday_Sleep_Start', 'Weekend_Sleep_Start', 'Weekday_Sleep_End', 'Weekend_Sleep_End']\n",
      "Label column is:  Sleep_Quality\n",
      "Data Shape: \n",
      "---- SHAPE OF TRAINING DATA (85%) ----\n",
      "(425, 12)\n",
      "(425,)\n",
      "---- SHAPE OF TESTING DATA (15%) ----\n",
      "(75, 12)\n",
      "(75,)\n",
      "Training RandomForest Model ....\n",
      "[Parallel(n_jobs=1)]: Using backend SequentialBackend with 1 concurrent workers.\n",
      "building tree 1 of 100\n",
      "[Parallel(n_jobs=1)]: Done   1 out of   1 | elapsed:    0.0s remaining:    0.0s\n",
      "building tree 2 of 100\n",
      "building tree 3 of 100\n",
      "building tree 4 of 100\n",
      "building tree 5 of 100\n",
      "building tree 6 of 100\n",
      "building tree 7 of 100\n",
      "building tree 8 of 100\n",
      "building tree 9 of 100\n",
      "building tree 10 of 100\n",
      "building tree 11 of 100\n",
      "building tree 12 of 100\n",
      "building tree 13 of 100\n",
      "building tree 14 of 100\n",
      "building tree 15 of 100\n",
      "building tree 16 of 100\n",
      "building tree 17 of 100\n",
      "building tree 18 of 100\n",
      "building tree 19 of 100\n",
      "building tree 20 of 100\n",
      "building tree 21 of 100\n",
      "building tree 22 of 100\n",
      "building tree 23 of 100\n",
      "building tree 24 of 100\n",
      "building tree 25 of 100\n",
      "building tree 26 of 100\n",
      "building tree 27 of 100\n",
      "building tree 28 of 100\n",
      "building tree 29 of 100\n",
      "building tree 30 of 100\n",
      "building tree 31 of 100\n",
      "building tree 32 of 100\n",
      "building tree 33 of 100\n",
      "building tree 34 of 100\n",
      "building tree 35 of 100\n",
      "building tree 36 of 100\n",
      "building tree 37 of 100\n",
      "building tree 38 of 100\n",
      "building tree 39 of 100\n",
      "building tree 40 of 100\n",
      "building tree 41 of 100\n",
      "building tree 42 of 100\n",
      "building tree 43 of 100\n",
      "building tree 44 of 100\n",
      "building tree 45 of 100\n",
      "building tree 46 of 100\n",
      "building tree 47 of 100\n",
      "building tree 48 of 100\n",
      "building tree 49 of 100\n",
      "building tree 50 of 100\n",
      "building tree 51 of 100\n",
      "building tree 52 of 100\n",
      "building tree 53 of 100\n",
      "building tree 54 of 100\n",
      "building tree 55 of 100\n",
      "building tree 56 of 100\n",
      "building tree 57 of 100\n",
      "building tree 58 of 100\n",
      "building tree 59 of 100\n",
      "building tree 60 of 100\n",
      "building tree 61 of 100\n",
      "building tree 62 of 100\n",
      "building tree 63 of 100\n",
      "building tree 64 of 100\n",
      "building tree 65 of 100\n",
      "building tree 66 of 100\n",
      "building tree 67 of 100\n",
      "building tree 68 of 100\n",
      "building tree 69 of 100\n",
      "building tree 70 of 100\n",
      "building tree 71 of 100\n",
      "building tree 72 of 100\n",
      "building tree 73 of 100\n",
      "building tree 74 of 100\n",
      "building tree 75 of 100\n",
      "building tree 76 of 100\n",
      "building tree 77 of 100\n",
      "building tree 78 of 100\n",
      "building tree 79 of 100\n",
      "building tree 80 of 100\n",
      "building tree 81 of 100\n",
      "building tree 82 of 100\n",
      "building tree 83 of 100\n",
      "building tree 84 of 100\n",
      "building tree 85 of 100\n",
      "building tree 86 of 100\n",
      "building tree 87 of 100\n",
      "building tree 88 of 100\n",
      "building tree 89 of 100\n",
      "building tree 90 of 100\n",
      "building tree 91 of 100\n",
      "building tree 92 of 100\n",
      "building tree 93 of 100\n",
      "building tree 94 of 100\n",
      "building tree 95 of 100\n",
      "building tree 96 of 100\n",
      "building tree 97 of 100\n",
      "building tree 98 of 100\n",
      "building tree 99 of 100\n",
      "building tree 100 of 100\n",
      "[Parallel(n_jobs=1)]: Done 100 out of 100 | elapsed:    0.2s finished\n",
      "Model saved at/opt/ml/model/model.joblib\n",
      "[Parallel(n_jobs=1)]: Using backend SequentialBackend with 1 concurrent workers.\n",
      "[Parallel(n_jobs=1)]: Done   1 out of   1 | elapsed:    0.0s remaining:    0.0s\n",
      "[Parallel(n_jobs=1)]: Done 100 out of 100 | elapsed:    0.0s finished\n",
      "---- METRICS RESULTS FOR TESTING DATA ----\n",
      "Total Rows are:  75\n",
      "[TESTING] Model Accuracy is:  0.05333333333333334\n",
      "[TESTING] Testing Report: \n",
      "              precision    recall  f1-score   support\n",
      "           1       0.00      0.00      0.00        11\n",
      "           2       0.00      0.00      0.00         7\n",
      "           3       0.11      0.10      0.11        10\n",
      "           4       0.00      0.00      0.00         6\n",
      "           5       0.00      0.00      0.00         7\n",
      "           6       0.17      0.33      0.22         6\n",
      "           7       0.00      0.00      0.00         7\n",
      "           8       0.25      0.12      0.17         8\n",
      "           9       0.00      0.00      0.00         6\n",
      "          10       0.00      0.00      0.00         7\n",
      "    accuracy                           0.05        75\n",
      "   macro avg       0.05      0.06      0.05        75\n",
      "weighted avg       0.05      0.05      0.05        75\n",
      "2025-06-25 06:53:02,138 sagemaker-containers INFO     Reporting training SUCCESS\n",
      "\n",
      "2025-06-25 06:53:19 Training - Training image download completed. Training in progress.\n",
      "2025-06-25 06:53:19 Uploading - Uploading generated training model\n",
      "2025-06-25 06:53:19 Completed - Training job completed\n",
      "Training seconds: 94\n",
      "Billable seconds: 94\n"
     ]
    }
   ],
   "source": [
    "# launch training job, with asynchronous call\n",
    "sklearn_estimator.fit({\"train\": trainpath, \"test\": testpath}, wait=True)"
   ]
  },
  {
   "cell_type": "markdown",
   "id": "51af1013",
   "metadata": {},
   "source": [
    "## Load the Model from S3 Bucket"
   ]
  },
  {
   "cell_type": "code",
   "execution_count": null,
   "id": "a8f7356c",
   "metadata": {},
   "outputs": [
    {
     "name": "stdout",
     "output_type": "stream",
     "text": [
      "\n",
      "2025-06-25 06:53:19 Starting - Preparing the instances for training\n",
      "2025-06-25 06:53:19 Downloading - Downloading the training image\n",
      "2025-06-25 06:53:19 Training - Training image download completed. Training in progress.\n",
      "2025-06-25 06:53:19 Uploading - Uploading generated training model\n",
      "2025-06-25 06:53:19 Completed - Training job completed\n"
     ]
    }
   ],
   "source": [
    "sklearn_estimator.latest_training_job.wait(logs=\"None\")\n",
    "artifact = sm_boto3.describe_training_job(\n",
    "    TrainingJobName=sklearn_estimator.latest_training_job.name\n",
    ")[\"ModelArtifacts\"][\"S3ModelArtifacts\"]\n",
    "\n",
    "'''\n",
    "This code block is used to monitor and retrieve the output of a completed SageMaker training job initiated using the sklearn_estimator.\n",
    "The first line, sklearn_estimator.latest_training_job.wait(logs=\"None\"), waits for the most recent training job to finish.\n",
    "Setting logs=\"None\" means it won’t stream the logs to the notebook — the code simply pauses until the job is done.\n",
    "Once the job completes, the next line uses boto3 (specifically the low-level sagemaker client) to call describe_training_job, passing the name of the training job.\n",
    "This returns metadata about the job, from which the code extracts the S3 URI of the model artifacts — the trained model and any files output by the training script.\n",
    "The resulting artifact variable holds the S3 path to the trained model, which is necessary for model deployment or further processing.'''"
   ]
  },
  {
   "cell_type": "code",
   "execution_count": 25,
   "id": "9d72f8af",
   "metadata": {},
   "outputs": [
    {
     "data": {
      "text/plain": [
       "'s3://sagemaker-us-east-1-703671911782/RF-custom-sklearn-2025-06-25-06-51-01-349/output/model.tar.gz'"
      ]
     },
     "execution_count": 25,
     "metadata": {},
     "output_type": "execute_result"
    }
   ],
   "source": [
    "artifact"
   ]
  },
  {
   "cell_type": "markdown",
   "id": "1eafde54",
   "metadata": {},
   "source": [
    "## Deploy the Model to get the Endpoint"
   ]
  },
  {
   "cell_type": "code",
   "execution_count": null,
   "id": "cbe70bca",
   "metadata": {},
   "outputs": [],
   "source": [
    "from sagemaker.sklearn.model import SKLearnModel\n",
    "from time import gmtime,strftime\n",
    "\n",
    "\n",
    "model_name=\"Custom-sklearn-model-\" + strftime(\"%Y-%m-%d-%H-%M-%S\", gmtime())\n",
    "model=SKLearnModel(\n",
    "    name=model_name,\n",
    "    model_data=artifact,\n",
    "    role=\"arn:aws:iam::703671911782:role/sagemakeraccess\",\n",
    "    entry_point=\"script.py\",\n",
    "    framework_version=FRAMEWORK_VERSION\n",
    ")\n",
    "\n",
    "'''\n",
    "It begins by generating a unique name for the model using the current timestamp, resulting in a name like \"Custom-sklearn-model-2025-06-21-10-30-00\".\n",
    "This helps distinguish models by their creation time. Then, an instance of SKLearnModel is created, which represents the trained Scikit-learn model and its deployment configuration.\n",
    "\n",
    "The model_data parameter is set to the artifact — the S3 URI where the trained model artifacts were stored by the SageMaker training job.\n",
    "The role parameter provides the IAM role ARN that SageMaker will assume to load the model and perform inference.\n",
    "The entry_point=\"script.py\" specifies the Python script that includes the necessary functions (model_fn, input_fn, predict_fn, output_fn) to load and run the model in a production environment.\n",
    "Lastly, framework_version=FRAMEWORK_VERSION ensures the correct Scikit-learn runtime environment (like \"0.23-1\") is used to match the training configuration.'''"
   ]
  },
  {
   "cell_type": "code",
   "execution_count": 30,
   "id": "ded57b78",
   "metadata": {},
   "outputs": [
    {
     "data": {
      "text/plain": [
       "<sagemaker.sklearn.model.SKLearnModel at 0x1dcdf8d4100>"
      ]
     },
     "execution_count": 30,
     "metadata": {},
     "output_type": "execute_result"
    }
   ],
   "source": [
    "model"
   ]
  },
  {
   "cell_type": "code",
   "execution_count": null,
   "id": "61b67b4f",
   "metadata": {},
   "outputs": [
    {
     "name": "stdout",
     "output_type": "stream",
     "text": [
      "EndpointName=Custom-sklearn-model-2025-06-25-07-37-03\n"
     ]
    },
    {
     "name": "stderr",
     "output_type": "stream",
     "text": [
      "INFO:sagemaker:Creating model with name: Custom-sklearn-model-2025-06-25-07-37-00\n",
      "INFO:sagemaker:Creating endpoint-config with name Custom-sklearn-model-2025-06-25-07-37-03\n",
      "INFO:sagemaker:Creating endpoint with name Custom-sklearn-model-2025-06-25-07-37-03\n"
     ]
    },
    {
     "name": "stdout",
     "output_type": "stream",
     "text": [
      "--------!"
     ]
    }
   ],
   "source": [
    "## Endpoint deployment\n",
    "endpoint_name=\"Custom-sklearn-model-\" + strftime(\"%Y-%m-%d-%H-%M-%S\", gmtime())\n",
    "print(\"EndpointName={}\".format(endpoint_name))\n",
    "\n",
    "predictor=model.deploy(\n",
    "    initial_instance_count=1,\n",
    "    instance_type=\"ml.m4.xlarge\",\n",
    "    endpoint_name=endpoint_name\n",
    ")\n",
    "\n",
    "'''\n",
    "First, it creates a unique endpoint_name using a timestamp (e.g., \"Custom-sklearn-model-2025-06-21-10-45-00\")\n",
    "to avoid naming conflicts and help trace deployments over time.\n",
    "This name is printed for reference, as you’ll need it when sending prediction requests or managing the endpoint later.\n",
    "Then, model.deploy() is called, which launches a SageMaker endpoint with:\n",
    "    - initial_instance_count=1: using one inference instance,\n",
    "    - instance_type=\"ml.m4.xlarge\": a general-purpose compute instance,\n",
    "    - endpoint_name: assigning it the custom name generated above.\n",
    "The result, predictor, is an object you can use directly in Python to send prediction inputs to the deployed model using .predict().'''"
   ]
  },
  {
   "cell_type": "code",
   "execution_count": 32,
   "id": "f0eec241",
   "metadata": {},
   "outputs": [
    {
     "data": {
      "text/plain": [
       "<sagemaker.sklearn.model.SKLearnPredictor at 0x1dcdfbb9570>"
      ]
     },
     "execution_count": 32,
     "metadata": {},
     "output_type": "execute_result"
    }
   ],
   "source": [
    "predictor"
   ]
  },
  {
   "cell_type": "code",
   "execution_count": 33,
   "id": "f1cd7c48",
   "metadata": {},
   "outputs": [
    {
     "data": {
      "text/plain": [
       "{'ResponseMetadata': {'RequestId': '65549a8d-29a1-4a9d-b3b3-cacee6beefbd',\n",
       "  'HTTPStatusCode': 200,\n",
       "  'HTTPHeaders': {'x-amzn-requestid': '65549a8d-29a1-4a9d-b3b3-cacee6beefbd',\n",
       "   'content-type': 'application/x-amz-json-1.1',\n",
       "   'date': 'Wed, 25 Jun 2025 07:41:52 GMT',\n",
       "   'content-length': '0'},\n",
       "  'RetryAttempts': 0}}"
      ]
     },
     "execution_count": 33,
     "metadata": {},
     "output_type": "execute_result"
    }
   ],
   "source": [
    "sm_boto3.delete_endpoint(EndpointName=endpoint_name)"
   ]
  }
 ],
 "metadata": {
  "kernelspec": {
   "display_name": "student-sleep-quality-prediction-venv",
   "language": "python",
   "name": "python3"
  },
  "language_info": {
   "codemirror_mode": {
    "name": "ipython",
    "version": 3
   },
   "file_extension": ".py",
   "mimetype": "text/x-python",
   "name": "python",
   "nbconvert_exporter": "python",
   "pygments_lexer": "ipython3",
   "version": "3.10.11"
  }
 },
 "nbformat": 4,
 "nbformat_minor": 5
}
