{
 "cells": [
  {
   "cell_type": "code",
   "execution_count": 1,
   "id": "ccfdf412",
   "metadata": {},
   "outputs": [
    {
     "name": "stdout",
     "output_type": "stream",
     "text": [
      "sagemaker.config INFO - Not applying SDK defaults from location: C:\\ProgramData\\sagemaker\\sagemaker\\config.yaml\n",
      "sagemaker.config INFO - Not applying SDK defaults from location: C:\\Users\\jayaw\\AppData\\Local\\sagemaker\\sagemaker\\config.yaml\n"
     ]
    }
   ],
   "source": [
    "import sagemaker\n",
    "from sklearn.model_selection import train_test_split\n",
    "from sklearn.preprocessing import LabelEncoder\n",
    "from sklearn.ensemble import RandomForestClassifier\n",
    "import boto3\n",
    "import pandas as pd\n",
    "import matplotlib.pyplot as plt\n",
    "import seaborn as sns\n",
    "from dotenv import load_dotenv\n",
    "import os"
   ]
  },
  {
   "cell_type": "code",
   "execution_count": 2,
   "id": "5c9bb627",
   "metadata": {},
   "outputs": [
    {
     "data": {
      "text/plain": [
       "True"
      ]
     },
     "execution_count": 2,
     "metadata": {},
     "output_type": "execute_result"
    }
   ],
   "source": [
    "load_dotenv()"
   ]
  },
  {
   "cell_type": "code",
   "execution_count": 3,
   "id": "cacef22d",
   "metadata": {},
   "outputs": [
    {
     "name": "stdout",
     "output_type": "stream",
     "text": [
      "Using bucket student-sleep-quality-prediction-bucket-sagemaker\n"
     ]
    }
   ],
   "source": [
    "sm_boto3 = boto3.client(\"sagemaker\")   # Create a low-level SageMaker client using boto3\n",
    "sess = sagemaker.Session()             # Create a SageMaker session using the high-level SageMaker SDK\n",
    "region = sess.boto_session.region_name # Get the AWS region associated with the current session\n",
    "bucket = \"student-sleep-quality-prediction-bucket-sagemaker\"  # Define the name of your S3 bucket\n",
    "print(\"Using bucket\", bucket)          # Output the name of the bucket being used"
   ]
  },
  {
   "cell_type": "markdown",
   "id": "7e947046",
   "metadata": {},
   "source": [
    "## Load Dataset"
   ]
  },
  {
   "cell_type": "code",
   "execution_count": 4,
   "id": "6be9d6da",
   "metadata": {},
   "outputs": [
    {
     "data": {
      "application/vnd.microsoft.datawrangler.viewer.v0+json": {
       "columns": [
        {
         "name": "index",
         "rawType": "int64",
         "type": "integer"
        },
        {
         "name": "Student_ID",
         "rawType": "int64",
         "type": "integer"
        },
        {
         "name": "Age",
         "rawType": "int64",
         "type": "integer"
        },
        {
         "name": "Gender",
         "rawType": "object",
         "type": "string"
        },
        {
         "name": "University_Year",
         "rawType": "object",
         "type": "string"
        },
        {
         "name": "Sleep_Duration",
         "rawType": "float64",
         "type": "float"
        },
        {
         "name": "Study_Hours",
         "rawType": "float64",
         "type": "float"
        },
        {
         "name": "Screen_Time",
         "rawType": "float64",
         "type": "float"
        },
        {
         "name": "Caffeine_Intake",
         "rawType": "int64",
         "type": "integer"
        },
        {
         "name": "Physical_Activity",
         "rawType": "int64",
         "type": "integer"
        },
        {
         "name": "Sleep_Quality",
         "rawType": "int64",
         "type": "integer"
        },
        {
         "name": "Weekday_Sleep_Start",
         "rawType": "float64",
         "type": "float"
        },
        {
         "name": "Weekend_Sleep_Start",
         "rawType": "float64",
         "type": "float"
        },
        {
         "name": "Weekday_Sleep_End",
         "rawType": "float64",
         "type": "float"
        },
        {
         "name": "Weekend_Sleep_End",
         "rawType": "float64",
         "type": "float"
        }
       ],
       "ref": "4645de5b-8551-4590-9b8b-8c6baaa48fcc",
       "rows": [
        [
         "0",
         "1",
         "24",
         "Other",
         "2nd Year",
         "7.7",
         "7.9",
         "3.4",
         "2",
         "37",
         "10",
         "14.16",
         "4.05",
         "7.41",
         "7.06"
        ],
        [
         "1",
         "2",
         "21",
         "Male",
         "1st Year",
         "6.3",
         "6.0",
         "1.9",
         "5",
         "74",
         "2",
         "8.73",
         "7.1",
         "8.21",
         "10.21"
        ],
        [
         "2",
         "3",
         "22",
         "Male",
         "4th Year",
         "5.1",
         "6.7",
         "3.9",
         "5",
         "53",
         "5",
         "20.0",
         "20.47",
         "6.88",
         "10.92"
        ],
        [
         "3",
         "4",
         "24",
         "Other",
         "4th Year",
         "6.3",
         "8.6",
         "2.8",
         "4",
         "55",
         "9",
         "19.82",
         "4.08",
         "6.69",
         "9.42"
        ],
        [
         "4",
         "5",
         "20",
         "Male",
         "4th Year",
         "4.7",
         "2.7",
         "2.7",
         "0",
         "85",
         "3",
         "20.98",
         "6.12",
         "8.98",
         "9.01"
        ]
       ],
       "shape": {
        "columns": 14,
        "rows": 5
       }
      },
      "text/html": [
       "<div>\n",
       "<style scoped>\n",
       "    .dataframe tbody tr th:only-of-type {\n",
       "        vertical-align: middle;\n",
       "    }\n",
       "\n",
       "    .dataframe tbody tr th {\n",
       "        vertical-align: top;\n",
       "    }\n",
       "\n",
       "    .dataframe thead th {\n",
       "        text-align: right;\n",
       "    }\n",
       "</style>\n",
       "<table border=\"1\" class=\"dataframe\">\n",
       "  <thead>\n",
       "    <tr style=\"text-align: right;\">\n",
       "      <th></th>\n",
       "      <th>Student_ID</th>\n",
       "      <th>Age</th>\n",
       "      <th>Gender</th>\n",
       "      <th>University_Year</th>\n",
       "      <th>Sleep_Duration</th>\n",
       "      <th>Study_Hours</th>\n",
       "      <th>Screen_Time</th>\n",
       "      <th>Caffeine_Intake</th>\n",
       "      <th>Physical_Activity</th>\n",
       "      <th>Sleep_Quality</th>\n",
       "      <th>Weekday_Sleep_Start</th>\n",
       "      <th>Weekend_Sleep_Start</th>\n",
       "      <th>Weekday_Sleep_End</th>\n",
       "      <th>Weekend_Sleep_End</th>\n",
       "    </tr>\n",
       "  </thead>\n",
       "  <tbody>\n",
       "    <tr>\n",
       "      <th>0</th>\n",
       "      <td>1</td>\n",
       "      <td>24</td>\n",
       "      <td>Other</td>\n",
       "      <td>2nd Year</td>\n",
       "      <td>7.7</td>\n",
       "      <td>7.9</td>\n",
       "      <td>3.4</td>\n",
       "      <td>2</td>\n",
       "      <td>37</td>\n",
       "      <td>10</td>\n",
       "      <td>14.16</td>\n",
       "      <td>4.05</td>\n",
       "      <td>7.41</td>\n",
       "      <td>7.06</td>\n",
       "    </tr>\n",
       "    <tr>\n",
       "      <th>1</th>\n",
       "      <td>2</td>\n",
       "      <td>21</td>\n",
       "      <td>Male</td>\n",
       "      <td>1st Year</td>\n",
       "      <td>6.3</td>\n",
       "      <td>6.0</td>\n",
       "      <td>1.9</td>\n",
       "      <td>5</td>\n",
       "      <td>74</td>\n",
       "      <td>2</td>\n",
       "      <td>8.73</td>\n",
       "      <td>7.10</td>\n",
       "      <td>8.21</td>\n",
       "      <td>10.21</td>\n",
       "    </tr>\n",
       "    <tr>\n",
       "      <th>2</th>\n",
       "      <td>3</td>\n",
       "      <td>22</td>\n",
       "      <td>Male</td>\n",
       "      <td>4th Year</td>\n",
       "      <td>5.1</td>\n",
       "      <td>6.7</td>\n",
       "      <td>3.9</td>\n",
       "      <td>5</td>\n",
       "      <td>53</td>\n",
       "      <td>5</td>\n",
       "      <td>20.00</td>\n",
       "      <td>20.47</td>\n",
       "      <td>6.88</td>\n",
       "      <td>10.92</td>\n",
       "    </tr>\n",
       "    <tr>\n",
       "      <th>3</th>\n",
       "      <td>4</td>\n",
       "      <td>24</td>\n",
       "      <td>Other</td>\n",
       "      <td>4th Year</td>\n",
       "      <td>6.3</td>\n",
       "      <td>8.6</td>\n",
       "      <td>2.8</td>\n",
       "      <td>4</td>\n",
       "      <td>55</td>\n",
       "      <td>9</td>\n",
       "      <td>19.82</td>\n",
       "      <td>4.08</td>\n",
       "      <td>6.69</td>\n",
       "      <td>9.42</td>\n",
       "    </tr>\n",
       "    <tr>\n",
       "      <th>4</th>\n",
       "      <td>5</td>\n",
       "      <td>20</td>\n",
       "      <td>Male</td>\n",
       "      <td>4th Year</td>\n",
       "      <td>4.7</td>\n",
       "      <td>2.7</td>\n",
       "      <td>2.7</td>\n",
       "      <td>0</td>\n",
       "      <td>85</td>\n",
       "      <td>3</td>\n",
       "      <td>20.98</td>\n",
       "      <td>6.12</td>\n",
       "      <td>8.98</td>\n",
       "      <td>9.01</td>\n",
       "    </tr>\n",
       "  </tbody>\n",
       "</table>\n",
       "</div>"
      ],
      "text/plain": [
       "   Student_ID  Age Gender University_Year  Sleep_Duration  Study_Hours  \\\n",
       "0           1   24  Other        2nd Year             7.7          7.9   \n",
       "1           2   21   Male        1st Year             6.3          6.0   \n",
       "2           3   22   Male        4th Year             5.1          6.7   \n",
       "3           4   24  Other        4th Year             6.3          8.6   \n",
       "4           5   20   Male        4th Year             4.7          2.7   \n",
       "\n",
       "   Screen_Time  Caffeine_Intake  Physical_Activity  Sleep_Quality  \\\n",
       "0          3.4                2                 37             10   \n",
       "1          1.9                5                 74              2   \n",
       "2          3.9                5                 53              5   \n",
       "3          2.8                4                 55              9   \n",
       "4          2.7                0                 85              3   \n",
       "\n",
       "   Weekday_Sleep_Start  Weekend_Sleep_Start  Weekday_Sleep_End  \\\n",
       "0                14.16                 4.05               7.41   \n",
       "1                 8.73                 7.10               8.21   \n",
       "2                20.00                20.47               6.88   \n",
       "3                19.82                 4.08               6.69   \n",
       "4                20.98                 6.12               8.98   \n",
       "\n",
       "   Weekend_Sleep_End  \n",
       "0               7.06  \n",
       "1              10.21  \n",
       "2              10.92  \n",
       "3               9.42  \n",
       "4               9.01  "
      ]
     },
     "execution_count": 4,
     "metadata": {},
     "output_type": "execute_result"
    }
   ],
   "source": [
    "df = pd.read_csv('student_sleep_patterns.csv')\n",
    "df.head()"
   ]
  },
  {
   "cell_type": "markdown",
   "id": "1bc44aa5",
   "metadata": {},
   "source": [
    "## Exploratory Data Analysis (EDA)"
   ]
  },
  {
   "cell_type": "code",
   "execution_count": 5,
   "id": "6464967d",
   "metadata": {},
   "outputs": [
    {
     "data": {
      "text/plain": [
       "(500, 14)"
      ]
     },
     "execution_count": 5,
     "metadata": {},
     "output_type": "execute_result"
    }
   ],
   "source": [
    "df.shape"
   ]
  },
  {
   "cell_type": "code",
   "execution_count": 6,
   "id": "9ef12cd7",
   "metadata": {},
   "outputs": [
    {
     "data": {
      "application/vnd.microsoft.datawrangler.viewer.v0+json": {
       "columns": [
        {
         "name": "index",
         "rawType": "object",
         "type": "string"
        },
        {
         "name": "0",
         "rawType": "int64",
         "type": "integer"
        }
       ],
       "ref": "9ff4b44e-67a6-4915-b7c2-dd9778a51067",
       "rows": [
        [
         "Student_ID",
         "0"
        ],
        [
         "Age",
         "0"
        ],
        [
         "Gender",
         "0"
        ],
        [
         "University_Year",
         "0"
        ],
        [
         "Sleep_Duration",
         "0"
        ],
        [
         "Study_Hours",
         "0"
        ],
        [
         "Screen_Time",
         "0"
        ],
        [
         "Caffeine_Intake",
         "0"
        ],
        [
         "Physical_Activity",
         "0"
        ],
        [
         "Sleep_Quality",
         "0"
        ],
        [
         "Weekday_Sleep_Start",
         "0"
        ],
        [
         "Weekend_Sleep_Start",
         "0"
        ],
        [
         "Weekday_Sleep_End",
         "0"
        ],
        [
         "Weekend_Sleep_End",
         "0"
        ]
       ],
       "shape": {
        "columns": 1,
        "rows": 14
       }
      },
      "text/plain": [
       "Student_ID             0\n",
       "Age                    0\n",
       "Gender                 0\n",
       "University_Year        0\n",
       "Sleep_Duration         0\n",
       "Study_Hours            0\n",
       "Screen_Time            0\n",
       "Caffeine_Intake        0\n",
       "Physical_Activity      0\n",
       "Sleep_Quality          0\n",
       "Weekday_Sleep_Start    0\n",
       "Weekend_Sleep_Start    0\n",
       "Weekday_Sleep_End      0\n",
       "Weekend_Sleep_End      0\n",
       "dtype: int64"
      ]
     },
     "execution_count": 6,
     "metadata": {},
     "output_type": "execute_result"
    }
   ],
   "source": [
    "df.isnull().sum()"
   ]
  },
  {
   "cell_type": "code",
   "execution_count": 7,
   "id": "25a85ca6",
   "metadata": {},
   "outputs": [
    {
     "data": {
      "application/vnd.microsoft.datawrangler.viewer.v0+json": {
       "columns": [
        {
         "name": "Sleep_Quality",
         "rawType": "int64",
         "type": "integer"
        },
        {
         "name": "count",
         "rawType": "int64",
         "type": "integer"
        }
       ],
       "ref": "c0c9b7e4-29ce-42dc-9d5c-516683c46540",
       "rows": [
        [
         "1",
         "66"
        ],
        [
         "6",
         "57"
        ],
        [
         "9",
         "55"
        ],
        [
         "3",
         "54"
        ],
        [
         "10",
         "50"
        ],
        [
         "2",
         "46"
        ],
        [
         "4",
         "46"
        ],
        [
         "7",
         "45"
        ],
        [
         "5",
         "41"
        ],
        [
         "8",
         "40"
        ]
       ],
       "shape": {
        "columns": 1,
        "rows": 10
       }
      },
      "text/plain": [
       "Sleep_Quality\n",
       "1     66\n",
       "6     57\n",
       "9     55\n",
       "3     54\n",
       "10    50\n",
       "2     46\n",
       "4     46\n",
       "7     45\n",
       "5     41\n",
       "8     40\n",
       "Name: count, dtype: int64"
      ]
     },
     "execution_count": 7,
     "metadata": {},
     "output_type": "execute_result"
    }
   ],
   "source": [
    "df['Sleep_Quality'].value_counts()"
   ]
  },
  {
   "cell_type": "code",
   "execution_count": 8,
   "id": "ad57bc54",
   "metadata": {},
   "outputs": [
    {
     "data": {
      "text/plain": [
       "Text(0, 0.5, 'Count')"
      ]
     },
     "execution_count": 8,
     "metadata": {},
     "output_type": "execute_result"
    },
    {
     "data": {
      "image/png": "[encoded data removed]",
      "text/plain": [
       "<Figure size 640x480 with 1 Axes>"
      ]
     },
     "metadata": {},
     "output_type": "display_data"
    }
   ],
   "source": [
    "sns.countplot(x='Sleep_Quality', data=df)\n",
    "plt.title(\"Target Variable Distribution\")\n",
    "plt.xlabel(\"Class\")\n",
    "plt.ylabel(\"Count\")"
   ]
  },
  {
   "cell_type": "code",
   "execution_count": 9,
   "id": "2345f83a",
   "metadata": {},
   "outputs": [
    {
     "data": {
      "text/plain": [
       "Index(['Student_ID', 'Age', 'Gender', 'University_Year', 'Sleep_Duration',\n",
       "       'Study_Hours', 'Screen_Time', 'Caffeine_Intake', 'Physical_Activity',\n",
       "       'Sleep_Quality', 'Weekday_Sleep_Start', 'Weekend_Sleep_Start',\n",
       "       'Weekday_Sleep_End', 'Weekend_Sleep_End'],\n",
       "      dtype='object')"
      ]
     },
     "execution_count": 9,
     "metadata": {},
     "output_type": "execute_result"
    }
   ],
   "source": [
    "df.columns"
   ]
  },
  {
   "cell_type": "code",
   "execution_count": 10,
   "id": "d622ea83",
   "metadata": {},
   "outputs": [
    {
     "name": "stdout",
     "output_type": "stream",
     "text": [
      "<class 'pandas.core.frame.DataFrame'>\n",
      "RangeIndex: 500 entries, 0 to 499\n",
      "Data columns (total 14 columns):\n",
      " #   Column               Non-Null Count  Dtype  \n",
      "---  ------               --------------  -----  \n",
      " 0   Student_ID           500 non-null    int64  \n",
      " 1   Age                  500 non-null    int64  \n",
      " 2   Gender               500 non-null    object \n",
      " 3   University_Year      500 non-null    object \n",
      " 4   Sleep_Duration       500 non-null    float64\n",
      " 5   Study_Hours          500 non-null    float64\n",
      " 6   Screen_Time          500 non-null    float64\n",
      " 7   Caffeine_Intake      500 non-null    int64  \n",
      " 8   Physical_Activity    500 non-null    int64  \n",
      " 9   Sleep_Quality        500 non-null    int64  \n",
      " 10  Weekday_Sleep_Start  500 non-null    float64\n",
      " 11  Weekend_Sleep_Start  500 non-null    float64\n",
      " 12  Weekday_Sleep_End    500 non-null    float64\n",
      " 13  Weekend_Sleep_End    500 non-null    float64\n",
      "dtypes: float64(7), int64(5), object(2)\n",
      "memory usage: 54.8+ KB\n"
     ]
    }
   ],
   "source": [
    "df.info()"
   ]
  },
  {
   "cell_type": "markdown",
   "id": "4f991c99",
   "metadata": {},
   "source": [
    "## Data Preprocessing"
   ]
  },
  {
   "cell_type": "code",
   "execution_count": 11,
   "id": "336c2d7d",
   "metadata": {},
   "outputs": [],
   "source": [
    "df.drop('Student_ID', inplace=True, axis=1)"
   ]
  },
  {
   "cell_type": "code",
   "execution_count": 12,
   "id": "4e28bce5",
   "metadata": {},
   "outputs": [],
   "source": [
    "TARGET = \"Sleep_Quality\""
   ]
  },
  {
   "cell_type": "code",
   "execution_count": 13,
   "id": "13408572",
   "metadata": {},
   "outputs": [],
   "source": [
    "categorical_cols = df.select_dtypes(include=['object', 'category']).columns\n",
    "\n",
    "# Apply LabelEncoder to each categorical column\n",
    "le = LabelEncoder()\n",
    "for col in categorical_cols:\n",
    "    df[col] = le.fit_transform(df[col])"
   ]
  },
  {
   "cell_type": "code",
   "execution_count": 14,
   "id": "beb6de13",
   "metadata": {},
   "outputs": [],
   "source": [
    "X = df.drop(columns=[TARGET])  # Features (all except target)\n",
    "y = df[TARGET]                 # Target variable"
   ]
  },
  {
   "cell_type": "code",
   "execution_count": 15,
   "id": "ba984de8",
   "metadata": {},
   "outputs": [],
   "source": [
    "X_train, X_test, y_train, y_test = train_test_split(X, y, test_size=.15, random_state=42)"
   ]
  },
  {
   "cell_type": "code",
   "execution_count": 16,
   "id": "e12b8d0b",
   "metadata": {},
   "outputs": [
    {
     "name": "stdout",
     "output_type": "stream",
     "text": [
      "(425, 12) \n",
      "\n",
      "(425,) \n",
      "\n",
      "(75, 12) \n",
      "\n",
      "(75,) \n",
      "\n"
     ]
    },
    {
     "data": {
      "text/plain": [
       "[None, None, None, None]"
      ]
     },
     "execution_count": 16,
     "metadata": {},
     "output_type": "execute_result"
    }
   ],
   "source": [
    "[print(f\"{a.shape} \\n\") for a in (X_train, y_train, X_test, y_test)]"
   ]
  },
  {
   "cell_type": "code",
   "execution_count": 17,
   "id": "e2cca528",
   "metadata": {},
   "outputs": [],
   "source": [
    "train_df = pd.DataFrame(X_train)\n",
    "train_df[TARGET] = y_train\n",
    "\n",
    "test_df = pd.DataFrame(X_test)\n",
    "test_df[TARGET] = y_test"
   ]
  },
  {
   "cell_type": "code",
   "execution_count": 18,
   "id": "45289892",
   "metadata": {},
   "outputs": [],
   "source": [
    "train_df.to_csv(\"train-V1.csv\", index=False)\n",
    "test_df.to_csv(\"test-V1.csv\", index=False)"
   ]
  },
  {
   "cell_type": "code",
   "execution_count": 19,
   "id": "9b289f4f",
   "metadata": {},
   "outputs": [],
   "source": [
    "os.environ['AWS_ACCESS_KEY_ID'] = os.getenv('AWS_ACCESS_KEY_ID')\n",
    "os.environ['AWS_SECRET_ACCESS_KEY'] = os.getenv('AWS_SECRET_ACCESS_KEY')\n",
    "os.environ['AWS_DEFAULT_REGION'] = os.getenv('AWS_DEFAULT_REGION')"
   ]
  },
  {
   "cell_type": "code",
   "execution_count": 20,
   "id": "6bf98331",
   "metadata": {},
   "outputs": [
    {
     "name": "stdout",
     "output_type": "stream",
     "text": [
      "s3://student-sleep-quality-prediction-bucket-sagemaker/sagemaker/student-sleep-quality/sklearncontainer/train-V1.csv\n",
      "s3://student-sleep-quality-prediction-bucket-sagemaker/sagemaker/student-sleep-quality/sklearncontainer/test-V1.csv\n"
     ]
    }
   ],
   "source": [
    "## send data to S3. Sagemaker will take the data for trainign from s3\n",
    "sk_prefix=\"sagemaker/student-sleep-quality/sklearncontainer\"\n",
    "trainpath=sess.upload_data(path='train-V1.csv',bucket=bucket,key_prefix=sk_prefix)\n",
    "testpath=sess.upload_data(path='test-V1.csv',bucket=bucket,key_prefix=sk_prefix)\n",
    "\n",
    "print(trainpath)\n",
    "print(testpath)"
   ]
  }
 ],
 "metadata": {
  "kernelspec": {
   "display_name": "student-sleep-quality-prediction-venv",
   "language": "python",
   "name": "python3"
  },
  "language_info": {
   "codemirror_mode": {
    "name": "ipython",
    "version": 3
   },
   "file_extension": ".py",
   "mimetype": "text/x-python",
   "name": "python",
   "nbconvert_exporter": "python",
   "pygments_lexer": "ipython3",
   "version": "3.10.11"
  }
 },
 "nbformat": 4,
 "nbformat_minor": 5
}
